{
 "cells": [
  {
   "cell_type": "markdown",
   "id": "6c4815fe-87b7-41d8-83ce-0184cce22461",
   "metadata": {},
   "source": [
    "# Title: Which players have the highest engagement in the server? "
   ]
  },
  {
   "cell_type": "markdown",
   "id": "0618f01e-f5c8-4754-b300-07b26485b363",
   "metadata": {},
   "source": [
    "## Introduction\n"
   ]
  },
  {
   "cell_type": "markdown",
   "id": "abfb7f8b-1573-4977-ad5c-971c7e6d5a76",
   "metadata": {},
   "source": [
    "Background information: <br>\n",
    "XXX XXX"
   ]
  },
  {
   "cell_type": "markdown",
   "id": "0c36dfa4-4663-4443-97e2-87a22482e522",
   "metadata": {},
   "source": [
    "Question: Can the age and played hours of specific players their subscription status to game newsletters in players.csv data? <br>\n",
    "\n",
    "Dataset included: player.csv"
   ]
  },
  {
   "cell_type": "code",
   "execution_count": null,
   "id": "55bd30d5-8c34-4630-bcbe-854d28550c8c",
   "metadata": {},
   "outputs": [],
   "source": [
    "library(tidyverse)\n",
    "library(ggplot2)\n",
    "library(repr)\n",
    "library(tidymodels)\n",
    "options(repr.matrix.max.rows = 6)"
   ]
  },
  {
   "cell_type": "code",
   "execution_count": null,
   "id": "7c640c41-d253-4354-8c46-c3f16c9a73ef",
   "metadata": {},
   "outputs": [],
   "source": [
    "#reading players file\n",
    "players <- read.csv(\"data/players.csv\")\n",
    "players"
   ]
  },
  {
   "cell_type": "markdown",
   "id": "d9dcf449-3c78-4046-bbce-49de544bed31",
   "metadata": {},
   "source": [
    "#### Description about `players` dataset: <br>\n",
    "\n",
    "This data set contains information on 196 different player accounts. This information includes 7 variables:\n",
    "- Experience (Beginner, Amateur, Regular, Pro, Veteran)\n",
    "- Whether or not they are subscribed\n",
    "  - Average 73.5% are subscribed\n",
    "- The hashed email associated with their account\n",
    "- Hours spend on the game\n",
    "  - Average = 5.85 hours\n",
    "- First name\n",
    "- Gender\n",
    "- Age\n",
    "  - Average = 20.52 years\n",
    " \n",
    "There are some player accounts that are missing a few variables, so it is important that <code>na.rm = TRUE</code> is used so that analysis can be done without issue. Experience, hashed email, name, and gender are in character format. Age and hours played are in double point precision format. Subsriber status is in logical format, which can be quantified as TRUE = 1 and FALSE = 0."
   ]
  },
  {
   "cell_type": "code",
   "execution_count": null,
   "id": "3bc9a6a1-dc42-4cbb-a356-43272d910fbb",
   "metadata": {},
   "outputs": [],
   "source": [
    "summarize(players, \n",
    "          average_age = mean(Age, na.rm = TRUE), \n",
    "          average_played_hours = mean(played_hours, na.rm = TRUE))"
   ]
  },
  {
   "cell_type": "code",
   "execution_count": null,
   "id": "f27bd49e-24b6-43e6-9554-be9af081a086",
   "metadata": {},
   "outputs": [],
   "source": [
    "options(repr.plot.width = 15, repr.plot.height = 10)\n",
    "players_plot <- players |>\n",
    "    ggplot(aes(x = Age, y = played_hours)) + \n",
    "        geom_point(aes(colour = subscribe)) +\n",
    "        labs(title = \"Figure 1.1: Overview of the relationship between played time and age/subscription status\",x = \"Age in years\", y = \"Played time in hours\", colour = \"Subscription status\") +\n",
    "        theme(text = element_text(size=20))\n",
    "players_plot"
   ]
  },
  {
   "cell_type": "markdown",
   "id": "69d6b3aa-a4e9-4c67-a017-c0037e78118b",
   "metadata": {},
   "source": [
    "#### Explanation of the visualization:\n",
    "XXX"
   ]
  },
  {
   "cell_type": "code",
   "execution_count": null,
   "id": "9739579b-9d1d-4d34-8474-63dc54659635",
   "metadata": {},
   "outputs": [],
   "source": [
    "ggplot(players, aes(x = played_hours)) +\n",
    "  geom_histogram(binwidth = 5, fill = \"blue\", color = \"black\", alpha = 0.7) +\n",
    "  labs(title = \"Figure 1.2Distribution of Played Hours\", x = \"Played Hours\", y = \"Count\")"
   ]
  },
  {
   "cell_type": "markdown",
   "id": "3718b96e-34e8-4bc1-80a3-6a108e3471e5",
   "metadata": {},
   "source": [
    "#### Explanation of the visualization:\n",
    "XXX"
   ]
  },
  {
   "cell_type": "code",
   "execution_count": null,
   "id": "9a3c2805-5a82-4f4d-bf5c-5a1a219a2359",
   "metadata": {},
   "outputs": [],
   "source": [
    "ggplot(players, aes(x = as.factor(subscribe), fill = as.factor(subscribe))) +\n",
    "  geom_bar() +\n",
    "  labs(title = \"Subscription Status Distribution\", x = \"Subscribed (TRUE/FALSE)\", y = \"Count\") +\n",
    "  scale_fill_manual(values = c(\"red\", \"green\")) +\n",
    "  theme(text = element_text(size=20))"
   ]
  },
  {
   "cell_type": "markdown",
   "id": "c91443c1-8afc-4bf1-95ff-3e0a80feb9b6",
   "metadata": {},
   "source": [
    "#### Explanation of the visualization:\n",
    "XXX"
   ]
  },
  {
   "cell_type": "code",
   "execution_count": null,
   "id": "c12f0f57-1b22-45d2-833c-bbba4bd842c8",
   "metadata": {},
   "outputs": [],
   "source": [
    "options(repr.plot.width = 12, repr.plot.height = 12)\n",
    "\n",
    "average_age <- players |>\n",
    "                select(subscribe, Age) |>\n",
    "                group_by(subscribe) |>\n",
    "                summarize(mean=mean(Age, na.rm=TRUE))\n",
    "\n",
    "average_age_false <- pull(average_age) |> first()\n",
    "average_age_true <- pull(average_age) |> last()\n",
    "\n",
    "average_played_hours <- players |>\n",
    "                        select(subscribe, played_hours) |>\n",
    "                        group_by(subscribe) |>\n",
    "                        summarize(mean=mean(played_hours, na.rm=TRUE))\n",
    "\n",
    "average_played_hours_false <- pull(average_played_hours) |> first()\n",
    "average_played_hours_true <- pull(average_played_hours) |> last()\n",
    "\n",
    "played_hours_vs_age_plot <- ggplot(players, aes(x=Age ,y=played_hours,color=as_factor(subscribe))) +\n",
    "                            geom_point(alpha=0.4) +\n",
    "                            facet_grid(row=vars(subscribe)) +\n",
    "                            labs(x=\"Age of different players in years\",\n",
    "                                y=\"Number of hours playing on the server\",\n",
    "                                title=\"Figure 1.3 Number of hours on server vs age of players\",\n",
    "                                color=\"Subscription to Game Newsletter?\") +\n",
    "                            theme(text=element_text(size=14)) +\n",
    "                            geom_vline(aes(xintercept=average_age_false), linetype=\"dashed\", data=filter(players, subscribe == FALSE), alpha=0.3) +\n",
    "                            geom_vline(aes(xintercept=average_age_true), linetype=\"dashed\", data=filter(players, subscribe == TRUE), alpha=0.3) +\n",
    "                            geom_hline(aes(yintercept=average_played_hours_false), linetype=\"dashed\", data=filter(players, subscribe == FALSE), alpha=0.3) +\n",
    "                            geom_hline(aes(yintercept=average_played_hours_true), linetype=\"dashed\", data=filter(players, subscribe == TRUE), alpha=0.3) +\n",
    "                            annotate(\"text\", x=21, y=70, label=\"Average age of players\", angle=90) +\n",
    "                            annotate(\"text\", x=40, y=15, label=\"Average hours played\")\n",
    "\n",
    "\n",
    "played_hours_vs_age_plot\n",
    "\n"
   ]
  },
  {
   "cell_type": "markdown",
   "id": "23525782-7590-475a-8dd0-3c912e909765",
   "metadata": {},
   "source": [
    "#### Explanation of the visualization:\n",
    "XXX"
   ]
  },
  {
   "cell_type": "code",
   "execution_count": null,
   "id": "7df16982-842e-4aec-bec3-c39730737246",
   "metadata": {},
   "outputs": [],
   "source": [
    "library(cowplot)\n",
    "\n",
    "age_hist <- ggplot(players, aes(x=Age, fill = as_factor(subscribe))) +\n",
    "                geom_histogram(bins=20) +\n",
    "                labs(x=\"Age of different players in years\",\n",
    "                     y=\"Number of players in the range\",\n",
    "                    fill=\"Subscription to Game Newsletter?\",\n",
    "                    title = \"Figure 1.4 Age of players and their subscription status\")\n",
    "\n",
    "played_hours_hist <- ggplot(players, aes(x=played_hours, fill = as_factor(subscribe))) +\n",
    "                geom_histogram(bins=20) +\n",
    "                labs(x=\"Number of hours played\",\n",
    "                     y=\"Number of players in the range\",\n",
    "                    fill=\"Subscription to Game Newsletter?\",\n",
    "                    title = \"Figure 1.5 Hours of players played on server and their subscription status\")\n",
    "\n",
    "plot_grid(age_hist, played_hours_hist, ncol=1)"
   ]
  },
  {
   "cell_type": "markdown",
   "id": "d83b9db4-0ce4-47e6-be9e-fef3aaa6d91c",
   "metadata": {
    "jp-MarkdownHeadingCollapsed": true
   },
   "source": [
    "#### Explanation of the visualization:\n",
    "XXX"
   ]
  },
  {
   "cell_type": "markdown",
   "id": "bd4bf95f-0e23-47f4-976b-4660509c7363",
   "metadata": {},
   "source": [
    "## Data Analysis"
   ]
  },
  {
   "cell_type": "markdown",
   "id": "c7ae7ac6-83fd-45ff-bd92-1604242966a3",
   "metadata": {},
   "source": [
    "### Methods\n",
    "XXX <br>\n",
    "XXX <br>\n",
    "XXX"
   ]
  },
  {
   "cell_type": "code",
   "execution_count": null,
   "id": "8d924dc0-b2a7-4249-a901-bd3550fea6d5",
   "metadata": {},
   "outputs": [],
   "source": [
    "## analysis code here for k-nn classifiers\n",
    "set.seed(5555)\n",
    "\n",
    "#change subsription status to be a factor rather than logical\n",
    "players_mod <- mutate(players,subscribe = as_factor(subscribe))|>\n",
    "    filter(Age > 0)\n",
    "\n",
    "#players recipe\n",
    "players_recipe <- recipe(subscribe~ Age + played_hours, data = players_mod)|>\n",
    "    step_center(all_predictors()) |>\n",
    "    step_scale(all_predictors())\n",
    "\n",
    "#model specifications and set values for k\n",
    "knn_tune <- nearest_neighbor(weight_func = \"rectangular\", neighbors = tune()) |>\n",
    "    set_engine(\"kknn\")|>\n",
    "    set_mode(\"classification\")\n",
    "\n",
    "#split data with training and testing\n",
    "players_split <- initial_split(players_mod, prop = 0.75, strata = subscribe)\n",
    "players_train <- training(players_split)\n",
    "players_test <- testing(players_split)\n",
    "\n",
    "#train workflow with training data\n",
    "players_workflow <- workflow() |>\n",
    "    add_recipe(players_recipe) |>\n",
    "    add_model(knn_spec3) |>\n",
    "    fit(data = players_train)\n",
    "\n",
    "predictions <- predict(players_workflow, players_test)|>\n",
    "    bind_cols(players_test)|>\n",
    "    select(.pred_class, subscribe, Age, played_hours)\n",
    "\n",
    "predictions\n",
    "\n",
    "table <- predictions |>\n",
    "    conf_mat(truth = subscribe, estimate = .pred_class)\n",
    "table"
   ]
  },
  {
   "cell_type": "code",
   "execution_count": null,
   "id": "1b697c59-51a7-4c50-8ea9-22b6c7457c92",
   "metadata": {},
   "outputs": [],
   "source": []
  },
  {
   "cell_type": "code",
   "execution_count": null,
   "id": "a6b6386d-322b-4607-9fa6-54b1ec40a2d9",
   "metadata": {},
   "outputs": [],
   "source": []
  },
  {
   "cell_type": "code",
   "execution_count": null,
   "id": "9d754b44-ee64-4531-9a3f-025a79636519",
   "metadata": {},
   "outputs": [],
   "source": []
  },
  {
   "cell_type": "markdown",
   "id": "465af785-16e6-42ff-9f10-c8231765afc9",
   "metadata": {},
   "source": [
    "### Results from the predictive analysis"
   ]
  },
  {
   "cell_type": "markdown",
   "id": "b411901c-8af4-4a1d-8fba-296d16d3b3e9",
   "metadata": {},
   "source": []
  },
  {
   "cell_type": "code",
   "execution_count": null,
   "id": "27254ce5-08e7-4610-a47a-bdf5e38295fa",
   "metadata": {},
   "outputs": [],
   "source": []
  },
  {
   "cell_type": "markdown",
   "id": "771b9767-956f-467b-99c9-98d11e8ab62a",
   "metadata": {},
   "source": [
    "### Visualizations of the predictive analysis"
   ]
  },
  {
   "cell_type": "markdown",
   "id": "f51f1e44-44d2-43f5-a3b8-e5f4f0468b15",
   "metadata": {},
   "source": []
  },
  {
   "cell_type": "code",
   "execution_count": null,
   "id": "6de86d18-88ed-4ebb-a158-67ee0b6384d2",
   "metadata": {},
   "outputs": [],
   "source": []
  },
  {
   "cell_type": "markdown",
   "id": "bbe209b4-4ef8-4f51-9db0-9cbcee34062c",
   "metadata": {},
   "source": [
    "## Final Discussions and concluding thoughts"
   ]
  },
  {
   "cell_type": "markdown",
   "id": "d325105c-7a15-409c-b4e8-c817b002b208",
   "metadata": {},
   "source": [
    "- summarize what you found\n",
    "- discuss whether this is what you expected to find?\n",
    "- discuss what impact could such findings have?\n",
    "- discuss what future questions could this lead to?"
   ]
  },
  {
   "cell_type": "markdown",
   "id": "2f5990b5-3690-4a54-b7a7-31cd2f7e7d5a",
   "metadata": {},
   "source": []
  },
  {
   "cell_type": "markdown",
   "id": "bc9345a0-f5bf-4698-83b6-f12727498a10",
   "metadata": {},
   "source": []
  }
 ],
 "metadata": {
  "kernelspec": {
   "display_name": "R",
   "language": "R",
   "name": "ir"
  },
  "language_info": {
   "codemirror_mode": "r",
   "file_extension": ".r",
   "mimetype": "text/x-r-source",
   "name": "R",
   "pygments_lexer": "r",
   "version": "4.3.3"
  }
 },
 "nbformat": 4,
 "nbformat_minor": 5
}
